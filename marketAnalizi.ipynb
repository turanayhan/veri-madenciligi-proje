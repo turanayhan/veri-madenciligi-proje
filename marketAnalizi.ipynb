{
 "cells": [
  {
   "cell_type": "markdown",
   "metadata": {},
   "source": [
    "# APRIORI ALGORİTMASI KULLANARAK BİRLİKTELİK KURAL ANALİZİ \n",
    "\n",
    "X: 1.ürün Y: 2.ürün N: Toplam Alışveriş\n",
    "\n",
    "- Destek (Support) : Ürünlerin Birlikte Geçme Olasılığı\n",
    "\n",
    "Support(X, Y) = Freq(X,Y)/N\n",
    "\n",
    "( X ve Y farklı ürünlerinin birlikte geçme frekansı / Toplam Alışveriş )\n",
    "\n",
    "Support değerini hesaplama amacımız eşik değeri belirlemek. Veri setine bakıldığında bir çok ürün beraber görülebilir eşik değerinin altında kalan ürünlerde eleme yapacağız.\n",
    "\n",
    "- Güven (Confidence) : X’i Alanların Y’yi Alma Olasılığı\n",
    "\n",
    "Confidence(X, Y) = Freq(X,Y)/Freq(X)\n",
    "\n",
    "( X ve Y farklı ürünlerinin birlikte geçme frekansı / X’in gözlenme frekansı )\n",
    "\n",
    "Analiz yapıldığında ister support değerine göre ister confidence değerine göre eşik değeri belirlenebilir. Eşik değerini gerçek hayat verilerinde çok az alabiliriz.\n",
    "\n",
    "- Lift = Support(X,Y)/(Support(X)*Support(Y))\n",
    "\n",
    "X ürünü alanların Y ürünü satın alması şu kadar kat artıyor yorumu vardır."
   ]
  },
  {
   "cell_type": "markdown",
   "metadata": {},
   "source": []
  },
  {
   "cell_type": "code",
   "execution_count": 21,
   "metadata": {
    "ExecuteTime": {
     "end_time": "2024-01-07T14:16:42.138890Z",
     "start_time": "2024-01-07T14:16:42.123237Z"
    }
   },
   "outputs": [
    {
     "data": {
      "text/plain": "                           ürünler\n0                SÜT,EKMEK,BİSKÜVİ\n1  EKMEK,SÜT,BİSKÜVİ,MISIR GEVREĞİ\n2                 EKMEK,ÇAY,PEYNİR\n3           REÇEL,ZEYTİN,EKMEK,SÜT\n4               ZEYTİN,ÇAY,BİSKÜVİ",
      "text/html": "<div>\n<style scoped>\n    .dataframe tbody tr th:only-of-type {\n        vertical-align: middle;\n    }\n\n    .dataframe tbody tr th {\n        vertical-align: top;\n    }\n\n    .dataframe thead th {\n        text-align: right;\n    }\n</style>\n<table border=\"1\" class=\"dataframe\">\n  <thead>\n    <tr style=\"text-align: right;\">\n      <th></th>\n      <th>ürünler</th>\n    </tr>\n  </thead>\n  <tbody>\n    <tr>\n      <th>0</th>\n      <td>SÜT,EKMEK,BİSKÜVİ</td>\n    </tr>\n    <tr>\n      <th>1</th>\n      <td>EKMEK,SÜT,BİSKÜVİ,MISIR GEVREĞİ</td>\n    </tr>\n    <tr>\n      <th>2</th>\n      <td>EKMEK,ÇAY,PEYNİR</td>\n    </tr>\n    <tr>\n      <th>3</th>\n      <td>REÇEL,ZEYTİN,EKMEK,SÜT</td>\n    </tr>\n    <tr>\n      <th>4</th>\n      <td>ZEYTİN,ÇAY,BİSKÜVİ</td>\n    </tr>\n  </tbody>\n</table>\n</div>"
     },
     "execution_count": 21,
     "metadata": {},
     "output_type": "execute_result"
    }
   ],
   "source": [
    "# .csv formatındaki veri setini okuma işlemi\n",
    "# Süt,Ekmek,Bisküvü olan sutün başlığını names=['Ürünler'] ile ürünlere çevirdik.\n",
    "\n",
    "import pandas as pd\n",
    "df = pd.read_csv(\"ürünler.csv\", names=['ürünler'], header = None)\n",
    "df.head()"
   ]
  },
  {
   "cell_type": "code",
   "execution_count": 22,
   "metadata": {
    "ExecuteTime": {
     "end_time": "2024-01-07T14:16:50.626058Z",
     "start_time": "2024-01-07T14:16:50.615889Z"
    }
   },
   "outputs": [
    {
     "data": {
      "text/plain": "(20, 1)"
     },
     "execution_count": 22,
     "metadata": {},
     "output_type": "execute_result"
    }
   ],
   "source": [
    "# 20 satır ve 1 sütun var.\n",
    "\n",
    "df.shape"
   ]
  },
  {
   "cell_type": "code",
   "execution_count": 23,
   "metadata": {
    "ExecuteTime": {
     "end_time": "2024-01-07T14:16:53.059187Z",
     "start_time": "2024-01-07T14:16:53.050859Z"
    }
   },
   "outputs": [
    {
     "data": {
      "text/plain": "Index(['ürünler'], dtype='object')"
     },
     "execution_count": 23,
     "metadata": {},
     "output_type": "execute_result"
    }
   ],
   "source": [
    "# Sutün adı ve tipi.\n",
    "\n",
    "df.columns"
   ]
  },
  {
   "cell_type": "code",
   "execution_count": 10,
   "metadata": {
    "ExecuteTime": {
     "end_time": "2024-01-07T13:57:21.105295Z",
     "start_time": "2024-01-07T13:57:21.095733Z"
    }
   },
   "outputs": [
    {
     "data": {
      "text/plain": "array([['SÜT,EKMEK,BİSKÜVİ'],\n       ['EKMEK,SÜT,BİSKÜVİ,MISIR GEVREĞİ'],\n       ['EKMEK,ÇAY,PEYNİR'],\n       ['REÇEL,ZEYTİN,EKMEK,SÜT'],\n       ['ZEYTİN,ÇAY,BİSKÜVİ'],\n       ['EKMEK,ÇAY,PEYNİR'],\n       ['ZEYTİN,ÇAY,MISIR GEVREĞİ'],\n       ['ZEYTİN,EKMEK,ÇAY,BİSKÜVİ'],\n       ['REÇEL,ZEYTİN,EKMEK,ÇAY'],\n       ['EKMEK,SÜT'],\n       ['KAHVE,KOLA,BİSKÜVİ,MISIR GEVREĞİ'],\n       ['KAHVE,KOLA,BİSKÜVİ,MISIR GEVREĞİ'],\n       ['KAHVE,ŞEKER,PEYNİR'],\n       ['EKMEK,KAHVE,KOLA'],\n       ['EKMEK,ŞEKER,BİSKÜVİ'],\n       ['KAHVE,ŞEKER,MISIR GEVREĞİ'],\n       ['EKMEK,ŞEKER,PEYNİR'],\n       ['EKMEK,KAHVE,ŞEKER'],\n       ['EKMEK,KAHVE,ŞEKER'],\n       ['ÇAY,SÜT,KAHVE,MISIR GEVREĞİ']], dtype=object)"
     },
     "execution_count": 10,
     "metadata": {},
     "output_type": "execute_result"
    }
   ],
   "source": [
    "# Her satırda gözlenen gözlemler\n",
    "\n",
    "df.values"
   ]
  },
  {
   "cell_type": "code",
   "execution_count": 11,
   "metadata": {
    "ExecuteTime": {
     "end_time": "2024-01-07T13:57:25.481995Z",
     "start_time": "2024-01-07T13:57:25.470337Z"
    }
   },
   "outputs": [
    {
     "data": {
      "text/plain": "[['SÜT', 'EKMEK', 'BİSKÜVİ'],\n ['EKMEK', 'SÜT', 'BİSKÜVİ', 'MISIR GEVREĞİ'],\n ['EKMEK', 'ÇAY', 'PEYNİR'],\n ['REÇEL', 'ZEYTİN', 'EKMEK', 'SÜT'],\n ['ZEYTİN', 'ÇAY', 'BİSKÜVİ'],\n ['EKMEK', 'ÇAY', 'PEYNİR'],\n ['ZEYTİN', 'ÇAY', 'MISIR GEVREĞİ'],\n ['ZEYTİN', 'EKMEK', 'ÇAY', 'BİSKÜVİ'],\n ['REÇEL', 'ZEYTİN', 'EKMEK', 'ÇAY'],\n ['EKMEK', 'SÜT'],\n ['KAHVE', 'KOLA', 'BİSKÜVİ', 'MISIR GEVREĞİ'],\n ['KAHVE', 'KOLA', 'BİSKÜVİ', 'MISIR GEVREĞİ'],\n ['KAHVE', 'ŞEKER', 'PEYNİR'],\n ['EKMEK', 'KAHVE', 'KOLA'],\n ['EKMEK', 'ŞEKER', 'BİSKÜVİ'],\n ['KAHVE', 'ŞEKER', 'MISIR GEVREĞİ'],\n ['EKMEK', 'ŞEKER', 'PEYNİR'],\n ['EKMEK', 'KAHVE', 'ŞEKER'],\n ['EKMEK', 'KAHVE', 'ŞEKER'],\n ['ÇAY', 'SÜT', 'KAHVE', 'MISIR GEVREĞİ']]"
     },
     "execution_count": 11,
     "metadata": {},
     "output_type": "execute_result"
    }
   ],
   "source": [
    "# Her satırda tek bir gözlem birimi varmış gibiydi bunu virgül ile tek tek ayırma işlemi yaptık.\n",
    "data = list(df[\"ürünler\"].apply(lambda x:x.split(',')))\n",
    "data \n",
    "\n"
   ]
  },
  {
   "cell_type": "markdown",
   "metadata": {},
   "source": [
    "# Data Preprocessing"
   ]
  },
  {
   "cell_type": "code",
   "execution_count": null,
   "metadata": {
    "ExecuteTime": {
     "start_time": "2024-01-07T11:51:59.351603Z"
    }
   },
   "outputs": [],
   "source": [
    "#!pip install mlxtend"
   ]
  },
  {
   "cell_type": "code",
   "execution_count": 12,
   "metadata": {
    "ExecuteTime": {
     "end_time": "2024-01-07T13:58:27.866265Z",
     "start_time": "2024-01-07T13:58:27.613158Z"
    }
   },
   "outputs": [],
   "source": [
    "from mlxtend.preprocessing import TransactionEncoder"
   ]
  },
  {
   "cell_type": "code",
   "execution_count": 13,
   "metadata": {
    "ExecuteTime": {
     "end_time": "2024-01-07T13:58:32.885926Z",
     "start_time": "2024-01-07T13:58:32.880783Z"
    }
   },
   "outputs": [
    {
     "data": {
      "text/plain": "    BİSKÜVİ  EKMEK  KAHVE   KOLA  MISIR GEVREĞİ  PEYNİR  REÇEL    SÜT  ZEYTİN  \\\n0      True   True  False  False          False   False  False   True   False   \n1      True   True  False  False           True   False  False   True   False   \n2     False   True  False  False          False    True  False  False   False   \n3     False   True  False  False          False   False   True   True    True   \n4      True  False  False  False          False   False  False  False    True   \n5     False   True  False  False          False    True  False  False   False   \n6     False  False  False  False           True   False  False  False    True   \n7      True   True  False  False          False   False  False  False    True   \n8     False   True  False  False          False   False   True  False    True   \n9     False   True  False  False          False   False  False   True   False   \n10     True  False   True   True           True   False  False  False   False   \n11     True  False   True   True           True   False  False  False   False   \n12    False  False   True  False          False    True  False  False   False   \n13    False   True   True   True          False   False  False  False   False   \n14     True   True  False  False          False   False  False  False   False   \n15    False  False   True  False           True   False  False  False   False   \n16    False   True  False  False          False    True  False  False   False   \n17    False   True   True  False          False   False  False  False   False   \n18    False   True   True  False          False   False  False  False   False   \n19    False  False   True  False           True   False  False   True   False   \n\n      ÇAY  ŞEKER  \n0   False  False  \n1   False  False  \n2    True  False  \n3   False  False  \n4    True  False  \n5    True  False  \n6    True  False  \n7    True  False  \n8    True  False  \n9   False  False  \n10  False  False  \n11  False  False  \n12  False   True  \n13  False  False  \n14  False   True  \n15  False   True  \n16  False   True  \n17  False   True  \n18  False   True  \n19   True  False  ",
      "text/html": "<div>\n<style scoped>\n    .dataframe tbody tr th:only-of-type {\n        vertical-align: middle;\n    }\n\n    .dataframe tbody tr th {\n        vertical-align: top;\n    }\n\n    .dataframe thead th {\n        text-align: right;\n    }\n</style>\n<table border=\"1\" class=\"dataframe\">\n  <thead>\n    <tr style=\"text-align: right;\">\n      <th></th>\n      <th>BİSKÜVİ</th>\n      <th>EKMEK</th>\n      <th>KAHVE</th>\n      <th>KOLA</th>\n      <th>MISIR GEVREĞİ</th>\n      <th>PEYNİR</th>\n      <th>REÇEL</th>\n      <th>SÜT</th>\n      <th>ZEYTİN</th>\n      <th>ÇAY</th>\n      <th>ŞEKER</th>\n    </tr>\n  </thead>\n  <tbody>\n    <tr>\n      <th>0</th>\n      <td>True</td>\n      <td>True</td>\n      <td>False</td>\n      <td>False</td>\n      <td>False</td>\n      <td>False</td>\n      <td>False</td>\n      <td>True</td>\n      <td>False</td>\n      <td>False</td>\n      <td>False</td>\n    </tr>\n    <tr>\n      <th>1</th>\n      <td>True</td>\n      <td>True</td>\n      <td>False</td>\n      <td>False</td>\n      <td>True</td>\n      <td>False</td>\n      <td>False</td>\n      <td>True</td>\n      <td>False</td>\n      <td>False</td>\n      <td>False</td>\n    </tr>\n    <tr>\n      <th>2</th>\n      <td>False</td>\n      <td>True</td>\n      <td>False</td>\n      <td>False</td>\n      <td>False</td>\n      <td>True</td>\n      <td>False</td>\n      <td>False</td>\n      <td>False</td>\n      <td>True</td>\n      <td>False</td>\n    </tr>\n    <tr>\n      <th>3</th>\n      <td>False</td>\n      <td>True</td>\n      <td>False</td>\n      <td>False</td>\n      <td>False</td>\n      <td>False</td>\n      <td>True</td>\n      <td>True</td>\n      <td>True</td>\n      <td>False</td>\n      <td>False</td>\n    </tr>\n    <tr>\n      <th>4</th>\n      <td>True</td>\n      <td>False</td>\n      <td>False</td>\n      <td>False</td>\n      <td>False</td>\n      <td>False</td>\n      <td>False</td>\n      <td>False</td>\n      <td>True</td>\n      <td>True</td>\n      <td>False</td>\n    </tr>\n    <tr>\n      <th>5</th>\n      <td>False</td>\n      <td>True</td>\n      <td>False</td>\n      <td>False</td>\n      <td>False</td>\n      <td>True</td>\n      <td>False</td>\n      <td>False</td>\n      <td>False</td>\n      <td>True</td>\n      <td>False</td>\n    </tr>\n    <tr>\n      <th>6</th>\n      <td>False</td>\n      <td>False</td>\n      <td>False</td>\n      <td>False</td>\n      <td>True</td>\n      <td>False</td>\n      <td>False</td>\n      <td>False</td>\n      <td>True</td>\n      <td>True</td>\n      <td>False</td>\n    </tr>\n    <tr>\n      <th>7</th>\n      <td>True</td>\n      <td>True</td>\n      <td>False</td>\n      <td>False</td>\n      <td>False</td>\n      <td>False</td>\n      <td>False</td>\n      <td>False</td>\n      <td>True</td>\n      <td>True</td>\n      <td>False</td>\n    </tr>\n    <tr>\n      <th>8</th>\n      <td>False</td>\n      <td>True</td>\n      <td>False</td>\n      <td>False</td>\n      <td>False</td>\n      <td>False</td>\n      <td>True</td>\n      <td>False</td>\n      <td>True</td>\n      <td>True</td>\n      <td>False</td>\n    </tr>\n    <tr>\n      <th>9</th>\n      <td>False</td>\n      <td>True</td>\n      <td>False</td>\n      <td>False</td>\n      <td>False</td>\n      <td>False</td>\n      <td>False</td>\n      <td>True</td>\n      <td>False</td>\n      <td>False</td>\n      <td>False</td>\n    </tr>\n    <tr>\n      <th>10</th>\n      <td>True</td>\n      <td>False</td>\n      <td>True</td>\n      <td>True</td>\n      <td>True</td>\n      <td>False</td>\n      <td>False</td>\n      <td>False</td>\n      <td>False</td>\n      <td>False</td>\n      <td>False</td>\n    </tr>\n    <tr>\n      <th>11</th>\n      <td>True</td>\n      <td>False</td>\n      <td>True</td>\n      <td>True</td>\n      <td>True</td>\n      <td>False</td>\n      <td>False</td>\n      <td>False</td>\n      <td>False</td>\n      <td>False</td>\n      <td>False</td>\n    </tr>\n    <tr>\n      <th>12</th>\n      <td>False</td>\n      <td>False</td>\n      <td>True</td>\n      <td>False</td>\n      <td>False</td>\n      <td>True</td>\n      <td>False</td>\n      <td>False</td>\n      <td>False</td>\n      <td>False</td>\n      <td>True</td>\n    </tr>\n    <tr>\n      <th>13</th>\n      <td>False</td>\n      <td>True</td>\n      <td>True</td>\n      <td>True</td>\n      <td>False</td>\n      <td>False</td>\n      <td>False</td>\n      <td>False</td>\n      <td>False</td>\n      <td>False</td>\n      <td>False</td>\n    </tr>\n    <tr>\n      <th>14</th>\n      <td>True</td>\n      <td>True</td>\n      <td>False</td>\n      <td>False</td>\n      <td>False</td>\n      <td>False</td>\n      <td>False</td>\n      <td>False</td>\n      <td>False</td>\n      <td>False</td>\n      <td>True</td>\n    </tr>\n    <tr>\n      <th>15</th>\n      <td>False</td>\n      <td>False</td>\n      <td>True</td>\n      <td>False</td>\n      <td>True</td>\n      <td>False</td>\n      <td>False</td>\n      <td>False</td>\n      <td>False</td>\n      <td>False</td>\n      <td>True</td>\n    </tr>\n    <tr>\n      <th>16</th>\n      <td>False</td>\n      <td>True</td>\n      <td>False</td>\n      <td>False</td>\n      <td>False</td>\n      <td>True</td>\n      <td>False</td>\n      <td>False</td>\n      <td>False</td>\n      <td>False</td>\n      <td>True</td>\n    </tr>\n    <tr>\n      <th>17</th>\n      <td>False</td>\n      <td>True</td>\n      <td>True</td>\n      <td>False</td>\n      <td>False</td>\n      <td>False</td>\n      <td>False</td>\n      <td>False</td>\n      <td>False</td>\n      <td>False</td>\n      <td>True</td>\n    </tr>\n    <tr>\n      <th>18</th>\n      <td>False</td>\n      <td>True</td>\n      <td>True</td>\n      <td>False</td>\n      <td>False</td>\n      <td>False</td>\n      <td>False</td>\n      <td>False</td>\n      <td>False</td>\n      <td>False</td>\n      <td>True</td>\n    </tr>\n    <tr>\n      <th>19</th>\n      <td>False</td>\n      <td>False</td>\n      <td>True</td>\n      <td>False</td>\n      <td>True</td>\n      <td>False</td>\n      <td>False</td>\n      <td>True</td>\n      <td>False</td>\n      <td>True</td>\n      <td>False</td>\n    </tr>\n  </tbody>\n</table>\n</div>"
     },
     "execution_count": 13,
     "metadata": {},
     "output_type": "execute_result"
    }
   ],
   "source": [
    "#Veri setini istenilen True-False array'ine çevirdik.\n",
    "\n",
    "te = TransactionEncoder()\n",
    "te_data = te.fit(data).transform(data)\n",
    "df = pd.DataFrame(te_data,columns=te.columns_)\n",
    "df"
   ]
  },
  {
   "cell_type": "markdown",
   "metadata": {},
   "source": [
    "# Data Association Rules"
   ]
  },
  {
   "cell_type": "code",
   "execution_count": null,
   "outputs": [],
   "source": [],
   "metadata": {
    "collapsed": false,
    "ExecuteTime": {
     "start_time": "2024-01-07T11:51:59.355938Z"
    }
   }
  },
  {
   "cell_type": "code",
   "execution_count": 14,
   "metadata": {
    "ExecuteTime": {
     "end_time": "2024-01-07T13:58:57.013933Z",
     "start_time": "2024-01-07T13:58:56.998603Z"
    }
   },
   "outputs": [],
   "source": [
    "from mlxtend.frequent_patterns import apriori"
   ]
  },
  {
   "cell_type": "code",
   "execution_count": null,
   "outputs": [],
   "source": [],
   "metadata": {
    "collapsed": false,
    "ExecuteTime": {
     "start_time": "2024-01-07T11:51:59.358342Z"
    }
   }
  },
  {
   "cell_type": "code",
   "execution_count": null,
   "outputs": [],
   "source": [],
   "metadata": {
    "collapsed": false,
    "ExecuteTime": {
     "start_time": "2024-01-07T11:51:59.359494Z"
    }
   }
  },
  {
   "cell_type": "code",
   "execution_count": 17,
   "metadata": {
    "ExecuteTime": {
     "end_time": "2024-01-07T14:11:31.518977Z",
     "start_time": "2024-01-07T14:11:31.504457Z"
    }
   },
   "outputs": [
    {
     "name": "stdout",
     "output_type": "stream",
     "text": [
      "Processing 35 combinations | Sampling itemset size 54\n"
     ]
    },
    {
     "data": {
      "text/plain": "    support                               itemsets\n0      0.35                              (BİSKÜVİ)\n1      0.65                                (EKMEK)\n2      0.40                                (KAHVE)\n3      0.15                                 (KOLA)\n4      0.30                        (MISIR GEVREĞİ)\n..      ...                                    ...\n78     0.05          (ZEYTİN, EKMEK, ÇAY, BİSKÜVİ)\n79     0.10  (MISIR GEVREĞİ, BİSKÜVİ, KAHVE, KOLA)\n80     0.05            (ZEYTİN, EKMEK, SÜT, REÇEL)\n81     0.05            (ZEYTİN, EKMEK, ÇAY, REÇEL)\n82     0.05       (ÇAY, MISIR GEVREĞİ, KAHVE, SÜT)\n\n[83 rows x 2 columns]",
      "text/html": "<div>\n<style scoped>\n    .dataframe tbody tr th:only-of-type {\n        vertical-align: middle;\n    }\n\n    .dataframe tbody tr th {\n        vertical-align: top;\n    }\n\n    .dataframe thead th {\n        text-align: right;\n    }\n</style>\n<table border=\"1\" class=\"dataframe\">\n  <thead>\n    <tr style=\"text-align: right;\">\n      <th></th>\n      <th>support</th>\n      <th>itemsets</th>\n    </tr>\n  </thead>\n  <tbody>\n    <tr>\n      <th>0</th>\n      <td>0.35</td>\n      <td>(BİSKÜVİ)</td>\n    </tr>\n    <tr>\n      <th>1</th>\n      <td>0.65</td>\n      <td>(EKMEK)</td>\n    </tr>\n    <tr>\n      <th>2</th>\n      <td>0.40</td>\n      <td>(KAHVE)</td>\n    </tr>\n    <tr>\n      <th>3</th>\n      <td>0.15</td>\n      <td>(KOLA)</td>\n    </tr>\n    <tr>\n      <th>4</th>\n      <td>0.30</td>\n      <td>(MISIR GEVREĞİ)</td>\n    </tr>\n    <tr>\n      <th>...</th>\n      <td>...</td>\n      <td>...</td>\n    </tr>\n    <tr>\n      <th>78</th>\n      <td>0.05</td>\n      <td>(ZEYTİN, EKMEK, ÇAY, BİSKÜVİ)</td>\n    </tr>\n    <tr>\n      <th>79</th>\n      <td>0.10</td>\n      <td>(MISIR GEVREĞİ, BİSKÜVİ, KAHVE, KOLA)</td>\n    </tr>\n    <tr>\n      <th>80</th>\n      <td>0.05</td>\n      <td>(ZEYTİN, EKMEK, SÜT, REÇEL)</td>\n    </tr>\n    <tr>\n      <th>81</th>\n      <td>0.05</td>\n      <td>(ZEYTİN, EKMEK, ÇAY, REÇEL)</td>\n    </tr>\n    <tr>\n      <th>82</th>\n      <td>0.05</td>\n      <td>(ÇAY, MISIR GEVREĞİ, KAHVE, SÜT)</td>\n    </tr>\n  </tbody>\n</table>\n<p>83 rows × 2 columns</p>\n</div>"
     },
     "execution_count": 17,
     "metadata": {},
     "output_type": "execute_result"
    }
   ],
   "source": [
    "# Apriori Fonksiyonunu deneyelim.\n",
    "# df = True-False array ya da One Hot Encoding ile dönüştürülmüş dataframe\n",
    "# min_support = Tüm kombinasyonların support değerini istemiyorum bu yüzden belirli bir eşik değerini getir.\n",
    "# use_colnames = True, sutün isimlerini göster.\n",
    "# verbose = 1, Toplam kombinasyon sayısını verir.\n",
    "\n",
    "df1 = apriori(df, min_support=0.02, use_colnames=True, verbose = 1)\n",
    "df1"
   ]
  },
  {
   "cell_type": "code",
   "execution_count": null,
   "metadata": {
    "collapsed": true,
    "jupyter": {
     "outputs_hidden": true
    },
    "ExecuteTime": {
     "start_time": "2024-01-07T11:51:59.362124Z"
    }
   },
   "outputs": [],
   "source": [
    "''' Bisküvi tüm alışverişlerin % 35'inde, \n",
    "    Ekmek tüm alışverişlerin %65'inde veya \n",
    "    Çay, Zeytin, Ekmek, Bisküvi tüm satışların % 5'inde beraber yorumları yapılır.''' "
   ]
  },
  {
   "cell_type": "code",
   "execution_count": 18,
   "metadata": {
    "ExecuteTime": {
     "end_time": "2024-01-07T14:11:58.710518Z",
     "start_time": "2024-01-07T14:11:58.702985Z"
    }
   },
   "outputs": [
    {
     "data": {
      "text/plain": "    support                          itemsets\n1      0.65                           (EKMEK)\n2      0.40                           (KAHVE)\n0      0.35                         (BİSKÜVİ)\n9      0.35                             (ÇAY)\n4      0.30                   (MISIR GEVREĞİ)\n..      ...                               ...\n50     0.05             (EKMEK, ÇAY, BİSKÜVİ)\n51     0.05           (EKMEK, BİSKÜVİ, ŞEKER)\n55     0.05     (MISIR GEVREĞİ, BİSKÜVİ, SÜT)\n57     0.05              (EKMEK, KAHVE, KOLA)\n82     0.05  (ÇAY, MISIR GEVREĞİ, KAHVE, SÜT)\n\n[83 rows x 2 columns]",
      "text/html": "<div>\n<style scoped>\n    .dataframe tbody tr th:only-of-type {\n        vertical-align: middle;\n    }\n\n    .dataframe tbody tr th {\n        vertical-align: top;\n    }\n\n    .dataframe thead th {\n        text-align: right;\n    }\n</style>\n<table border=\"1\" class=\"dataframe\">\n  <thead>\n    <tr style=\"text-align: right;\">\n      <th></th>\n      <th>support</th>\n      <th>itemsets</th>\n    </tr>\n  </thead>\n  <tbody>\n    <tr>\n      <th>1</th>\n      <td>0.65</td>\n      <td>(EKMEK)</td>\n    </tr>\n    <tr>\n      <th>2</th>\n      <td>0.40</td>\n      <td>(KAHVE)</td>\n    </tr>\n    <tr>\n      <th>0</th>\n      <td>0.35</td>\n      <td>(BİSKÜVİ)</td>\n    </tr>\n    <tr>\n      <th>9</th>\n      <td>0.35</td>\n      <td>(ÇAY)</td>\n    </tr>\n    <tr>\n      <th>4</th>\n      <td>0.30</td>\n      <td>(MISIR GEVREĞİ)</td>\n    </tr>\n    <tr>\n      <th>...</th>\n      <td>...</td>\n      <td>...</td>\n    </tr>\n    <tr>\n      <th>50</th>\n      <td>0.05</td>\n      <td>(EKMEK, ÇAY, BİSKÜVİ)</td>\n    </tr>\n    <tr>\n      <th>51</th>\n      <td>0.05</td>\n      <td>(EKMEK, BİSKÜVİ, ŞEKER)</td>\n    </tr>\n    <tr>\n      <th>55</th>\n      <td>0.05</td>\n      <td>(MISIR GEVREĞİ, BİSKÜVİ, SÜT)</td>\n    </tr>\n    <tr>\n      <th>57</th>\n      <td>0.05</td>\n      <td>(EKMEK, KAHVE, KOLA)</td>\n    </tr>\n    <tr>\n      <th>82</th>\n      <td>0.05</td>\n      <td>(ÇAY, MISIR GEVREĞİ, KAHVE, SÜT)</td>\n    </tr>\n  </tbody>\n</table>\n<p>83 rows × 2 columns</p>\n</div>"
     },
     "execution_count": 18,
     "metadata": {},
     "output_type": "execute_result"
    }
   ],
   "source": [
    "#Alışverişlerde en çok alınan ürünleri yorumlayabilmek için veriyi büyükten küçüğe sıralayabiliriz.\n",
    "\n",
    "df1.sort_values(by=\"support\", ascending=False)"
   ]
  },
  {
   "cell_type": "code",
   "execution_count": 16,
   "metadata": {
    "ExecuteTime": {
     "end_time": "2024-01-07T14:02:31.380051Z",
     "start_time": "2024-01-07T14:02:31.360173Z"
    }
   },
   "outputs": [],
   "source": [
    "from mlxtend.frequent_patterns import association_rules"
   ]
  },
  {
   "cell_type": "code",
   "execution_count": 19,
   "metadata": {
    "ExecuteTime": {
     "end_time": "2024-01-07T14:12:03.314114Z",
     "start_time": "2024-01-07T14:12:03.302002Z"
    }
   },
   "outputs": [
    {
     "data": {
      "text/plain": "                    antecedents             consequents  support  confidence\n0                        (KOLA)               (BİSKÜVİ)     0.10    0.666667\n1                      (PEYNİR)                 (EKMEK)     0.15    0.750000\n2                       (REÇEL)                 (EKMEK)     0.10    1.000000\n3                         (SÜT)                 (EKMEK)     0.20    0.800000\n4                      (ZEYTİN)                 (EKMEK)     0.15    0.600000\n..                          ...                     ...      ...         ...\n81            (ÇAY, KAHVE, SÜT)         (MISIR GEVREĞİ)     0.05    1.000000\n82  (MISIR GEVREĞİ, KAHVE, SÜT)                   (ÇAY)     0.05    1.000000\n83                 (ÇAY, KAHVE)    (MISIR GEVREĞİ, SÜT)     0.05    1.000000\n84                   (ÇAY, SÜT)  (MISIR GEVREĞİ, KAHVE)     0.05    1.000000\n85                 (KAHVE, SÜT)    (ÇAY, MISIR GEVREĞİ)     0.05    1.000000\n\n[86 rows x 4 columns]",
      "text/html": "<div>\n<style scoped>\n    .dataframe tbody tr th:only-of-type {\n        vertical-align: middle;\n    }\n\n    .dataframe tbody tr th {\n        vertical-align: top;\n    }\n\n    .dataframe thead th {\n        text-align: right;\n    }\n</style>\n<table border=\"1\" class=\"dataframe\">\n  <thead>\n    <tr style=\"text-align: right;\">\n      <th></th>\n      <th>antecedents</th>\n      <th>consequents</th>\n      <th>support</th>\n      <th>confidence</th>\n    </tr>\n  </thead>\n  <tbody>\n    <tr>\n      <th>0</th>\n      <td>(KOLA)</td>\n      <td>(BİSKÜVİ)</td>\n      <td>0.10</td>\n      <td>0.666667</td>\n    </tr>\n    <tr>\n      <th>1</th>\n      <td>(PEYNİR)</td>\n      <td>(EKMEK)</td>\n      <td>0.15</td>\n      <td>0.750000</td>\n    </tr>\n    <tr>\n      <th>2</th>\n      <td>(REÇEL)</td>\n      <td>(EKMEK)</td>\n      <td>0.10</td>\n      <td>1.000000</td>\n    </tr>\n    <tr>\n      <th>3</th>\n      <td>(SÜT)</td>\n      <td>(EKMEK)</td>\n      <td>0.20</td>\n      <td>0.800000</td>\n    </tr>\n    <tr>\n      <th>4</th>\n      <td>(ZEYTİN)</td>\n      <td>(EKMEK)</td>\n      <td>0.15</td>\n      <td>0.600000</td>\n    </tr>\n    <tr>\n      <th>...</th>\n      <td>...</td>\n      <td>...</td>\n      <td>...</td>\n      <td>...</td>\n    </tr>\n    <tr>\n      <th>81</th>\n      <td>(ÇAY, KAHVE, SÜT)</td>\n      <td>(MISIR GEVREĞİ)</td>\n      <td>0.05</td>\n      <td>1.000000</td>\n    </tr>\n    <tr>\n      <th>82</th>\n      <td>(MISIR GEVREĞİ, KAHVE, SÜT)</td>\n      <td>(ÇAY)</td>\n      <td>0.05</td>\n      <td>1.000000</td>\n    </tr>\n    <tr>\n      <th>83</th>\n      <td>(ÇAY, KAHVE)</td>\n      <td>(MISIR GEVREĞİ, SÜT)</td>\n      <td>0.05</td>\n      <td>1.000000</td>\n    </tr>\n    <tr>\n      <th>84</th>\n      <td>(ÇAY, SÜT)</td>\n      <td>(MISIR GEVREĞİ, KAHVE)</td>\n      <td>0.05</td>\n      <td>1.000000</td>\n    </tr>\n    <tr>\n      <th>85</th>\n      <td>(KAHVE, SÜT)</td>\n      <td>(ÇAY, MISIR GEVREĞİ)</td>\n      <td>0.05</td>\n      <td>1.000000</td>\n    </tr>\n  </tbody>\n</table>\n<p>86 rows × 4 columns</p>\n</div>"
     },
     "execution_count": 19,
     "metadata": {},
     "output_type": "execute_result"
    }
   ],
   "source": [
    "# Aprioride \"support\" hesabı yapabiliriz, \"confidence ve diğerleri\" için association rules kullanıyoruz.\n",
    "\n",
    "association_rules(df1, metric = \"confidence\", min_threshold = 0.60)[['antecedents', 'consequents','support','confidence']]\n",
    "\n"
   ]
  },
  {
   "cell_type": "code",
   "execution_count": 19,
   "metadata": {
    "collapsed": true,
    "jupyter": {
     "outputs_hidden": true
    },
    "ExecuteTime": {
     "end_time": "2024-01-07T13:22:40.122021Z",
     "start_time": "2024-01-07T13:22:40.108809Z"
    }
   },
   "outputs": [
    {
     "data": {
      "text/plain": "' antecedent support ; Birincinin tek başına görülme olasılığı,\\n    consequent support ; İkincinin tek başına görülme olasılığı,\\n    support ; İkisinin birlikte görülme olasılığı,\\n    confidence ; İlki satıldığında ikinci ürünün satılma olasılığı,\\n    lift ;  İlki satıldığında ikinci ürünün satılma olasılığı şu kadar kat arttı yorumu\\n\\n'"
     },
     "execution_count": 19,
     "metadata": {},
     "output_type": "execute_result"
    }
   ],
   "source": [
    "''' antecedent support ; Birincinin tek başına görülme olasılığı,\n",
    "    consequent support ; İkincinin tek başına görülme olasılığı,\n",
    "    support ; İkisinin birlikte görülme olasılığı,\n",
    "    confidence ; İlki satıldığında ikinci ürünün satılma olasılığı,\n",
    "    lift ;  İlki satıldığında ikinci ürünün satılma olasılığı şu kadar kat arttı yorumu\n",
    "\n",
    "'''"
   ]
  },
  {
   "cell_type": "markdown",
   "metadata": {},
   "source": [
    "## Selecting and Filtering Results "
   ]
  },
  {
   "cell_type": "code",
   "execution_count": null,
   "metadata": {
    "collapsed": true,
    "jupyter": {
     "outputs_hidden": true
    },
    "ExecuteTime": {
     "start_time": "2024-01-07T11:51:59.367133Z"
    }
   },
   "outputs": [],
   "source": [
    "''' \"confidence\" göz önünde bulundurulması gereken tek metrik değil. \n",
    "Bir kaç metriğin kombinasyonuda alınabilir.\n",
    "'''"
   ]
  },
  {
   "cell_type": "code",
   "execution_count": 20,
   "metadata": {
    "ExecuteTime": {
     "end_time": "2024-01-07T14:12:26.611390Z",
     "start_time": "2024-01-07T14:12:26.592917Z"
    }
   },
   "outputs": [
    {
     "data": {
      "text/plain": "        antecedents consequents  antecedent support  consequent support  \\\n3             (SÜT)     (EKMEK)                0.25                0.65   \n5           (ŞEKER)     (EKMEK)                0.30                0.65   \n7   (MISIR GEVREĞİ)     (KAHVE)                0.30                0.40   \n8           (ŞEKER)     (KAHVE)                0.30                0.40   \n11         (ZEYTİN)       (ÇAY)                0.25                0.35   \n\n    support  confidence      lift  leverage  conviction  zhangs_metric  \n3       0.2    0.800000  1.230769    0.0375        1.75       0.250000  \n5       0.2    0.666667  1.025641    0.0050        1.05       0.035714  \n7       0.2    0.666667  1.666667    0.0800        1.80       0.571429  \n8       0.2    0.666667  1.666667    0.0800        1.80       0.571429  \n11      0.2    0.800000  2.285714    0.1125        3.25       0.750000  ",
      "text/html": "<div>\n<style scoped>\n    .dataframe tbody tr th:only-of-type {\n        vertical-align: middle;\n    }\n\n    .dataframe tbody tr th {\n        vertical-align: top;\n    }\n\n    .dataframe thead th {\n        text-align: right;\n    }\n</style>\n<table border=\"1\" class=\"dataframe\">\n  <thead>\n    <tr style=\"text-align: right;\">\n      <th></th>\n      <th>antecedents</th>\n      <th>consequents</th>\n      <th>antecedent support</th>\n      <th>consequent support</th>\n      <th>support</th>\n      <th>confidence</th>\n      <th>lift</th>\n      <th>leverage</th>\n      <th>conviction</th>\n      <th>zhangs_metric</th>\n    </tr>\n  </thead>\n  <tbody>\n    <tr>\n      <th>3</th>\n      <td>(SÜT)</td>\n      <td>(EKMEK)</td>\n      <td>0.25</td>\n      <td>0.65</td>\n      <td>0.2</td>\n      <td>0.800000</td>\n      <td>1.230769</td>\n      <td>0.0375</td>\n      <td>1.75</td>\n      <td>0.250000</td>\n    </tr>\n    <tr>\n      <th>5</th>\n      <td>(ŞEKER)</td>\n      <td>(EKMEK)</td>\n      <td>0.30</td>\n      <td>0.65</td>\n      <td>0.2</td>\n      <td>0.666667</td>\n      <td>1.025641</td>\n      <td>0.0050</td>\n      <td>1.05</td>\n      <td>0.035714</td>\n    </tr>\n    <tr>\n      <th>7</th>\n      <td>(MISIR GEVREĞİ)</td>\n      <td>(KAHVE)</td>\n      <td>0.30</td>\n      <td>0.40</td>\n      <td>0.2</td>\n      <td>0.666667</td>\n      <td>1.666667</td>\n      <td>0.0800</td>\n      <td>1.80</td>\n      <td>0.571429</td>\n    </tr>\n    <tr>\n      <th>8</th>\n      <td>(ŞEKER)</td>\n      <td>(KAHVE)</td>\n      <td>0.30</td>\n      <td>0.40</td>\n      <td>0.2</td>\n      <td>0.666667</td>\n      <td>1.666667</td>\n      <td>0.0800</td>\n      <td>1.80</td>\n      <td>0.571429</td>\n    </tr>\n    <tr>\n      <th>11</th>\n      <td>(ZEYTİN)</td>\n      <td>(ÇAY)</td>\n      <td>0.25</td>\n      <td>0.35</td>\n      <td>0.2</td>\n      <td>0.800000</td>\n      <td>2.285714</td>\n      <td>0.1125</td>\n      <td>3.25</td>\n      <td>0.750000</td>\n    </tr>\n  </tbody>\n</table>\n</div>"
     },
     "execution_count": 20,
     "metadata": {},
     "output_type": "execute_result"
    }
   ],
   "source": [
    "rules = association_rules(df1, metric = \"confidence\", min_threshold = 0.6)\n",
    "rules[ (rules['confidence'] >= 0.6) & (rules['support'] >= 0.2) ]"
   ]
  },
  {
   "cell_type": "markdown",
   "metadata": {},
   "source": [
    "# Reporting"
   ]
  },
  {
   "cell_type": "markdown",
   "metadata": {},
   "source": [
    "İndirgediğim veriseti üzerinden analiz yapıyor olacağım.\n",
    "- Alışverişlerde Zeytinin'in tek başına görülme olasığı %25, Çay'ın tek başına görülme olasılığı %35.\n",
    "- 100 alışverişin 20'sinde mutlaka Zeytinin ve Çay beraber satın alınıyor.\n",
    "- Zeytin satıldığında çay satılma olasılığı 0.800.. yani %80.\n",
    "- Zeytin satılan satışlarda çay satılma olasılığı 2.28 kat artmaktadır.\n",
    "\n",
    "\n",
    "Aksiyon Fikri: \n",
    "- zeytin alan biri %80 gibi yüksek bir ihtimalle çay almaktadır ve çay satışını 2.28 artırmaktadır. Bu iki ürün birbirinden uzak yerlerde konumlandırılarak müşterinin market içi dolaşması sağlanabilir, bu süreçte müşteri diğer ürünlere göz atabilir ve yahut satın alabilir. \n"
   ]
  },
  {
   "cell_type": "code",
   "execution_count": null,
   "metadata": {
    "ExecuteTime": {
     "start_time": "2024-01-07T11:51:59.368410Z"
    }
   },
   "outputs": [],
   "source": []
  },
  {
   "cell_type": "code",
   "execution_count": null,
   "outputs": [],
   "source": [],
   "metadata": {
    "collapsed": false,
    "ExecuteTime": {
     "start_time": "2024-01-07T11:51:59.369065Z"
    }
   }
  },
  {
   "cell_type": "code",
   "execution_count": null,
   "outputs": [],
   "source": [],
   "metadata": {
    "collapsed": false,
    "ExecuteTime": {
     "start_time": "2024-01-07T11:51:59.369654Z"
    }
   }
  },
  {
   "cell_type": "code",
   "execution_count": null,
   "outputs": [],
   "source": [],
   "metadata": {
    "collapsed": false,
    "ExecuteTime": {
     "start_time": "2024-01-07T11:51:59.370221Z"
    }
   }
  },
  {
   "cell_type": "code",
   "execution_count": null,
   "outputs": [],
   "source": [],
   "metadata": {
    "collapsed": false,
    "ExecuteTime": {
     "start_time": "2024-01-07T11:51:59.370773Z"
    }
   }
  },
  {
   "cell_type": "code",
   "execution_count": null,
   "outputs": [],
   "source": [],
   "metadata": {
    "collapsed": false,
    "ExecuteTime": {
     "start_time": "2024-01-07T11:51:59.371384Z"
    }
   }
  },
  {
   "cell_type": "code",
   "execution_count": null,
   "outputs": [],
   "source": [],
   "metadata": {
    "collapsed": false,
    "ExecuteTime": {
     "start_time": "2024-01-07T11:51:59.372124Z"
    }
   }
  },
  {
   "cell_type": "code",
   "execution_count": null,
   "outputs": [],
   "source": [],
   "metadata": {
    "collapsed": false,
    "ExecuteTime": {
     "start_time": "2024-01-07T11:51:59.372772Z"
    }
   }
  },
  {
   "cell_type": "code",
   "execution_count": null,
   "outputs": [],
   "source": [],
   "metadata": {
    "collapsed": false,
    "ExecuteTime": {
     "start_time": "2024-01-07T11:51:59.373350Z"
    }
   }
  },
  {
   "cell_type": "code",
   "execution_count": null,
   "outputs": [],
   "source": [],
   "metadata": {
    "collapsed": false,
    "ExecuteTime": {
     "start_time": "2024-01-07T11:51:59.373921Z"
    }
   }
  },
  {
   "cell_type": "code",
   "execution_count": null,
   "outputs": [],
   "source": [],
   "metadata": {
    "collapsed": false,
    "ExecuteTime": {
     "start_time": "2024-01-07T11:51:59.374638Z"
    }
   }
  }
 ],
 "metadata": {
  "kernelspec": {
   "display_name": "Python 3",
   "language": "python",
   "name": "python3"
  },
  "language_info": {
   "codemirror_mode": {
    "name": "ipython",
    "version": 3
   },
   "file_extension": ".py",
   "mimetype": "text/x-python",
   "name": "python",
   "nbconvert_exporter": "python",
   "pygments_lexer": "ipython3",
   "version": "3.7.4"
  }
 },
 "nbformat": 4,
 "nbformat_minor": 4
}
