{
 "cells": [
  {
   "cell_type": "markdown",
   "metadata": {},
   "source": [
    "# APRIORI ALGORİTMASI KULLANARAK BİRLİKTELİK KURAL ANALİZİ \n",
    "\n",
    "X: 1.ürün Y: 2.ürün N: Toplam Alışveriş\n",
    "\n",
    "- Destek (Support) : Ürünlerin Birlikte Geçme Olasılığı\n",
    "\n",
    "Support(X, Y) = Freq(X,Y)/N\n",
    "\n",
    "( X ve Y farklı ürünlerinin birlikte geçme frekansı / Toplam Alışveriş )\n",
    "\n",
    "Support değerini hesaplama amacımız eşik değeri belirlemek. Veri setine bakıldığında bir çok ürün beraber görülebilir eşik değerinin altında kalan ürünlerde eleme yapacağız.\n",
    "\n",
    "- Güven (Confidence) : X’i Alanların Y’yi Alma Olasılığı\n",
    "\n",
    "Confidence(X, Y) = Freq(X,Y)/Freq(X)\n",
    "\n",
    "( X ve Y farklı ürünlerinin birlikte geçme frekansı / X’in gözlenme frekansı )\n",
    "\n",
    "Analiz yapıldığında ister support değerine göre ister confidence değerine göre eşik değeri belirlenebilir. Eşik değerini gerçek hayat verilerinde çok az alabiliriz.\n",
    "\n",
    "- Lift = Support(X,Y)/(Support(X)*Support(Y))\n",
    "\n",
    "X ürünü alanların Y ürünü satın alması şu kadar kat artıyor yorumu vardır."
   ]
  },
  {
   "cell_type": "markdown",
   "metadata": {},
   "source": []
  },
  {
   "cell_type": "code",
   "execution_count": 4,
   "metadata": {
    "ExecuteTime": {
     "end_time": "2024-01-07T16:59:41.183521Z",
     "start_time": "2024-01-07T16:59:41.172998Z"
    }
   },
   "outputs": [
    {
     "data": {
      "text/plain": "                           ürünler\n0                SÜT,EKMEK,BİSKÜVİ\n1  EKMEK,SÜT,BİSKÜVİ,MISIR GEVREĞİ\n2                 EKMEK,ÇAY,PEYNİR\n3           REÇEL,ZEYTİN,EKMEK,SÜT\n4               ZEYTİN,ÇAY,BİSKÜVİ",
      "text/html": "<div>\n<style scoped>\n    .dataframe tbody tr th:only-of-type {\n        vertical-align: middle;\n    }\n\n    .dataframe tbody tr th {\n        vertical-align: top;\n    }\n\n    .dataframe thead th {\n        text-align: right;\n    }\n</style>\n<table border=\"1\" class=\"dataframe\">\n  <thead>\n    <tr style=\"text-align: right;\">\n      <th></th>\n      <th>ürünler</th>\n    </tr>\n  </thead>\n  <tbody>\n    <tr>\n      <th>0</th>\n      <td>SÜT,EKMEK,BİSKÜVİ</td>\n    </tr>\n    <tr>\n      <th>1</th>\n      <td>EKMEK,SÜT,BİSKÜVİ,MISIR GEVREĞİ</td>\n    </tr>\n    <tr>\n      <th>2</th>\n      <td>EKMEK,ÇAY,PEYNİR</td>\n    </tr>\n    <tr>\n      <th>3</th>\n      <td>REÇEL,ZEYTİN,EKMEK,SÜT</td>\n    </tr>\n    <tr>\n      <th>4</th>\n      <td>ZEYTİN,ÇAY,BİSKÜVİ</td>\n    </tr>\n  </tbody>\n</table>\n</div>"
     },
     "execution_count": 4,
     "metadata": {},
     "output_type": "execute_result"
    }
   ],
   "source": [
    "# .csv formatındaki veri setini okuma işlemi\n",
    "# Süt,Ekmek,Bisküvü olan sutün başlığını names=['Ürünler'] ile ürünlere çevirdik.\n",
    "\n",
    "import pandas as pd\n",
    "df = pd.read_csv(\"ürünler.csv\", names=['ürünler'], header = None)\n",
    "df.head()"
   ]
  },
  {
   "cell_type": "code",
   "execution_count": 5,
   "metadata": {
    "ExecuteTime": {
     "end_time": "2024-01-07T16:59:45.135351Z",
     "start_time": "2024-01-07T16:59:45.123879Z"
    }
   },
   "outputs": [
    {
     "data": {
      "text/plain": "(20, 1)"
     },
     "execution_count": 5,
     "metadata": {},
     "output_type": "execute_result"
    }
   ],
   "source": [
    "# 20 satır ve 1 sütun var.\n",
    "\n",
    "df.shape"
   ]
  },
  {
   "cell_type": "code",
   "execution_count": 6,
   "metadata": {
    "ExecuteTime": {
     "end_time": "2024-01-07T16:59:51.895720Z",
     "start_time": "2024-01-07T16:59:51.889823Z"
    }
   },
   "outputs": [
    {
     "data": {
      "text/plain": "Index(['ürünler'], dtype='object')"
     },
     "execution_count": 6,
     "metadata": {},
     "output_type": "execute_result"
    }
   ],
   "source": [
    "# Sutün adı ve tipi.\n",
    "\n",
    "df.columns"
   ]
  },
  {
   "cell_type": "code",
   "execution_count": 7,
   "metadata": {
    "ExecuteTime": {
     "end_time": "2024-01-07T16:59:54.527768Z",
     "start_time": "2024-01-07T16:59:54.516302Z"
    }
   },
   "outputs": [
    {
     "data": {
      "text/plain": "array([['SÜT,EKMEK,BİSKÜVİ'],\n       ['EKMEK,SÜT,BİSKÜVİ,MISIR GEVREĞİ'],\n       ['EKMEK,ÇAY,PEYNİR'],\n       ['REÇEL,ZEYTİN,EKMEK,SÜT'],\n       ['ZEYTİN,ÇAY,BİSKÜVİ'],\n       ['EKMEK,ÇAY,PEYNİR'],\n       ['ZEYTİN,ÇAY,MISIR GEVREĞİ'],\n       ['ZEYTİN,EKMEK,ÇAY,BİSKÜVİ'],\n       ['REÇEL,ZEYTİN,EKMEK,ÇAY'],\n       ['EKMEK,SÜT'],\n       ['KAHVE,KOLA,BİSKÜVİ,MISIR GEVREĞİ'],\n       ['KAHVE,KOLA,BİSKÜVİ,MISIR GEVREĞİ'],\n       ['KAHVE,ŞEKER,PEYNİR'],\n       ['EKMEK,KAHVE,KOLA'],\n       ['EKMEK,ŞEKER,BİSKÜVİ'],\n       ['KAHVE,ŞEKER,MISIR GEVREĞİ'],\n       ['EKMEK,ŞEKER,PEYNİR'],\n       ['EKMEK,KAHVE,ŞEKER'],\n       ['EKMEK,KAHVE,ŞEKER'],\n       ['ÇAY,SÜT,KAHVE,MISIR GEVREĞİ']], dtype=object)"
     },
     "execution_count": 7,
     "metadata": {},
     "output_type": "execute_result"
    }
   ],
   "source": [
    "# Her satırda gözlenen gözlemler\n",
    "\n",
    "df.values"
   ]
  },
  {
   "cell_type": "code",
   "execution_count": 8,
   "metadata": {
    "ExecuteTime": {
     "end_time": "2024-01-07T16:59:58.110614Z",
     "start_time": "2024-01-07T16:59:58.102846Z"
    }
   },
   "outputs": [
    {
     "data": {
      "text/plain": "[['SÜT', 'EKMEK', 'BİSKÜVİ'],\n ['EKMEK', 'SÜT', 'BİSKÜVİ', 'MISIR GEVREĞİ'],\n ['EKMEK', 'ÇAY', 'PEYNİR'],\n ['REÇEL', 'ZEYTİN', 'EKMEK', 'SÜT'],\n ['ZEYTİN', 'ÇAY', 'BİSKÜVİ'],\n ['EKMEK', 'ÇAY', 'PEYNİR'],\n ['ZEYTİN', 'ÇAY', 'MISIR GEVREĞİ'],\n ['ZEYTİN', 'EKMEK', 'ÇAY', 'BİSKÜVİ'],\n ['REÇEL', 'ZEYTİN', 'EKMEK', 'ÇAY'],\n ['EKMEK', 'SÜT'],\n ['KAHVE', 'KOLA', 'BİSKÜVİ', 'MISIR GEVREĞİ'],\n ['KAHVE', 'KOLA', 'BİSKÜVİ', 'MISIR GEVREĞİ'],\n ['KAHVE', 'ŞEKER', 'PEYNİR'],\n ['EKMEK', 'KAHVE', 'KOLA'],\n ['EKMEK', 'ŞEKER', 'BİSKÜVİ'],\n ['KAHVE', 'ŞEKER', 'MISIR GEVREĞİ'],\n ['EKMEK', 'ŞEKER', 'PEYNİR'],\n ['EKMEK', 'KAHVE', 'ŞEKER'],\n ['EKMEK', 'KAHVE', 'ŞEKER'],\n ['ÇAY', 'SÜT', 'KAHVE', 'MISIR GEVREĞİ']]"
     },
     "execution_count": 8,
     "metadata": {},
     "output_type": "execute_result"
    }
   ],
   "source": [
    "# Her satırda tek bir gözlem birimi varmış gibiydi bunu virgül ile tek tek ayırma işlemi yaptık.\n",
    "data = list(df[\"ürünler\"].apply(lambda x:x.split(',')))\n",
    "data \n",
    "\n"
   ]
  },
  {
   "cell_type": "markdown",
   "metadata": {},
   "source": [
    "# Veri Ön İşleme"
   ]
  },
  {
   "cell_type": "code",
   "execution_count": null,
   "metadata": {
    "ExecuteTime": {
     "start_time": "2024-01-07T11:51:59.351603Z"
    }
   },
   "outputs": [],
   "source": [
    "#!pip install mlxtend"
   ]
  },
  {
   "cell_type": "code",
   "execution_count": 9,
   "metadata": {
    "ExecuteTime": {
     "end_time": "2024-01-07T17:00:04.799520Z",
     "start_time": "2024-01-07T17:00:04.174694Z"
    }
   },
   "outputs": [],
   "source": [
    "from mlxtend.preprocessing import TransactionEncoder"
   ]
  },
  {
   "cell_type": "code",
   "execution_count": 10,
   "metadata": {
    "ExecuteTime": {
     "end_time": "2024-01-07T17:00:07.563582Z",
     "start_time": "2024-01-07T17:00:07.553599Z"
    }
   },
   "outputs": [
    {
     "data": {
      "text/plain": "    BİSKÜVİ  EKMEK  KAHVE   KOLA  MISIR GEVREĞİ  PEYNİR  REÇEL    SÜT  ZEYTİN  \\\n0      True   True  False  False          False   False  False   True   False   \n1      True   True  False  False           True   False  False   True   False   \n2     False   True  False  False          False    True  False  False   False   \n3     False   True  False  False          False   False   True   True    True   \n4      True  False  False  False          False   False  False  False    True   \n5     False   True  False  False          False    True  False  False   False   \n6     False  False  False  False           True   False  False  False    True   \n7      True   True  False  False          False   False  False  False    True   \n8     False   True  False  False          False   False   True  False    True   \n9     False   True  False  False          False   False  False   True   False   \n10     True  False   True   True           True   False  False  False   False   \n11     True  False   True   True           True   False  False  False   False   \n12    False  False   True  False          False    True  False  False   False   \n13    False   True   True   True          False   False  False  False   False   \n14     True   True  False  False          False   False  False  False   False   \n15    False  False   True  False           True   False  False  False   False   \n16    False   True  False  False          False    True  False  False   False   \n17    False   True   True  False          False   False  False  False   False   \n18    False   True   True  False          False   False  False  False   False   \n19    False  False   True  False           True   False  False   True   False   \n\n      ÇAY  ŞEKER  \n0   False  False  \n1   False  False  \n2    True  False  \n3   False  False  \n4    True  False  \n5    True  False  \n6    True  False  \n7    True  False  \n8    True  False  \n9   False  False  \n10  False  False  \n11  False  False  \n12  False   True  \n13  False  False  \n14  False   True  \n15  False   True  \n16  False   True  \n17  False   True  \n18  False   True  \n19   True  False  ",
      "text/html": "<div>\n<style scoped>\n    .dataframe tbody tr th:only-of-type {\n        vertical-align: middle;\n    }\n\n    .dataframe tbody tr th {\n        vertical-align: top;\n    }\n\n    .dataframe thead th {\n        text-align: right;\n    }\n</style>\n<table border=\"1\" class=\"dataframe\">\n  <thead>\n    <tr style=\"text-align: right;\">\n      <th></th>\n      <th>BİSKÜVİ</th>\n      <th>EKMEK</th>\n      <th>KAHVE</th>\n      <th>KOLA</th>\n      <th>MISIR GEVREĞİ</th>\n      <th>PEYNİR</th>\n      <th>REÇEL</th>\n      <th>SÜT</th>\n      <th>ZEYTİN</th>\n      <th>ÇAY</th>\n      <th>ŞEKER</th>\n    </tr>\n  </thead>\n  <tbody>\n    <tr>\n      <th>0</th>\n      <td>True</td>\n      <td>True</td>\n      <td>False</td>\n      <td>False</td>\n      <td>False</td>\n      <td>False</td>\n      <td>False</td>\n      <td>True</td>\n      <td>False</td>\n      <td>False</td>\n      <td>False</td>\n    </tr>\n    <tr>\n      <th>1</th>\n      <td>True</td>\n      <td>True</td>\n      <td>False</td>\n      <td>False</td>\n      <td>True</td>\n      <td>False</td>\n      <td>False</td>\n      <td>True</td>\n      <td>False</td>\n      <td>False</td>\n      <td>False</td>\n    </tr>\n    <tr>\n      <th>2</th>\n      <td>False</td>\n      <td>True</td>\n      <td>False</td>\n      <td>False</td>\n      <td>False</td>\n      <td>True</td>\n      <td>False</td>\n      <td>False</td>\n      <td>False</td>\n      <td>True</td>\n      <td>False</td>\n    </tr>\n    <tr>\n      <th>3</th>\n      <td>False</td>\n      <td>True</td>\n      <td>False</td>\n      <td>False</td>\n      <td>False</td>\n      <td>False</td>\n      <td>True</td>\n      <td>True</td>\n      <td>True</td>\n      <td>False</td>\n      <td>False</td>\n    </tr>\n    <tr>\n      <th>4</th>\n      <td>True</td>\n      <td>False</td>\n      <td>False</td>\n      <td>False</td>\n      <td>False</td>\n      <td>False</td>\n      <td>False</td>\n      <td>False</td>\n      <td>True</td>\n      <td>True</td>\n      <td>False</td>\n    </tr>\n    <tr>\n      <th>5</th>\n      <td>False</td>\n      <td>True</td>\n      <td>False</td>\n      <td>False</td>\n      <td>False</td>\n      <td>True</td>\n      <td>False</td>\n      <td>False</td>\n      <td>False</td>\n      <td>True</td>\n      <td>False</td>\n    </tr>\n    <tr>\n      <th>6</th>\n      <td>False</td>\n      <td>False</td>\n      <td>False</td>\n      <td>False</td>\n      <td>True</td>\n      <td>False</td>\n      <td>False</td>\n      <td>False</td>\n      <td>True</td>\n      <td>True</td>\n      <td>False</td>\n    </tr>\n    <tr>\n      <th>7</th>\n      <td>True</td>\n      <td>True</td>\n      <td>False</td>\n      <td>False</td>\n      <td>False</td>\n      <td>False</td>\n      <td>False</td>\n      <td>False</td>\n      <td>True</td>\n      <td>True</td>\n      <td>False</td>\n    </tr>\n    <tr>\n      <th>8</th>\n      <td>False</td>\n      <td>True</td>\n      <td>False</td>\n      <td>False</td>\n      <td>False</td>\n      <td>False</td>\n      <td>True</td>\n      <td>False</td>\n      <td>True</td>\n      <td>True</td>\n      <td>False</td>\n    </tr>\n    <tr>\n      <th>9</th>\n      <td>False</td>\n      <td>True</td>\n      <td>False</td>\n      <td>False</td>\n      <td>False</td>\n      <td>False</td>\n      <td>False</td>\n      <td>True</td>\n      <td>False</td>\n      <td>False</td>\n      <td>False</td>\n    </tr>\n    <tr>\n      <th>10</th>\n      <td>True</td>\n      <td>False</td>\n      <td>True</td>\n      <td>True</td>\n      <td>True</td>\n      <td>False</td>\n      <td>False</td>\n      <td>False</td>\n      <td>False</td>\n      <td>False</td>\n      <td>False</td>\n    </tr>\n    <tr>\n      <th>11</th>\n      <td>True</td>\n      <td>False</td>\n      <td>True</td>\n      <td>True</td>\n      <td>True</td>\n      <td>False</td>\n      <td>False</td>\n      <td>False</td>\n      <td>False</td>\n      <td>False</td>\n      <td>False</td>\n    </tr>\n    <tr>\n      <th>12</th>\n      <td>False</td>\n      <td>False</td>\n      <td>True</td>\n      <td>False</td>\n      <td>False</td>\n      <td>True</td>\n      <td>False</td>\n      <td>False</td>\n      <td>False</td>\n      <td>False</td>\n      <td>True</td>\n    </tr>\n    <tr>\n      <th>13</th>\n      <td>False</td>\n      <td>True</td>\n      <td>True</td>\n      <td>True</td>\n      <td>False</td>\n      <td>False</td>\n      <td>False</td>\n      <td>False</td>\n      <td>False</td>\n      <td>False</td>\n      <td>False</td>\n    </tr>\n    <tr>\n      <th>14</th>\n      <td>True</td>\n      <td>True</td>\n      <td>False</td>\n      <td>False</td>\n      <td>False</td>\n      <td>False</td>\n      <td>False</td>\n      <td>False</td>\n      <td>False</td>\n      <td>False</td>\n      <td>True</td>\n    </tr>\n    <tr>\n      <th>15</th>\n      <td>False</td>\n      <td>False</td>\n      <td>True</td>\n      <td>False</td>\n      <td>True</td>\n      <td>False</td>\n      <td>False</td>\n      <td>False</td>\n      <td>False</td>\n      <td>False</td>\n      <td>True</td>\n    </tr>\n    <tr>\n      <th>16</th>\n      <td>False</td>\n      <td>True</td>\n      <td>False</td>\n      <td>False</td>\n      <td>False</td>\n      <td>True</td>\n      <td>False</td>\n      <td>False</td>\n      <td>False</td>\n      <td>False</td>\n      <td>True</td>\n    </tr>\n    <tr>\n      <th>17</th>\n      <td>False</td>\n      <td>True</td>\n      <td>True</td>\n      <td>False</td>\n      <td>False</td>\n      <td>False</td>\n      <td>False</td>\n      <td>False</td>\n      <td>False</td>\n      <td>False</td>\n      <td>True</td>\n    </tr>\n    <tr>\n      <th>18</th>\n      <td>False</td>\n      <td>True</td>\n      <td>True</td>\n      <td>False</td>\n      <td>False</td>\n      <td>False</td>\n      <td>False</td>\n      <td>False</td>\n      <td>False</td>\n      <td>False</td>\n      <td>True</td>\n    </tr>\n    <tr>\n      <th>19</th>\n      <td>False</td>\n      <td>False</td>\n      <td>True</td>\n      <td>False</td>\n      <td>True</td>\n      <td>False</td>\n      <td>False</td>\n      <td>True</td>\n      <td>False</td>\n      <td>True</td>\n      <td>False</td>\n    </tr>\n  </tbody>\n</table>\n</div>"
     },
     "execution_count": 10,
     "metadata": {},
     "output_type": "execute_result"
    }
   ],
   "source": [
    "#Veri setini istenilen True-False array'ine çevirdik.\n",
    "\n",
    "te = TransactionEncoder()\n",
    "te_data = te.fit(data).transform(data)\n",
    "df = pd.DataFrame(te_data,columns=te.columns_)\n",
    "df"
   ]
  },
  {
   "cell_type": "markdown",
   "metadata": {},
   "source": [
    "## Veri Birliktelik Kuralları"
   ]
  },
  {
   "cell_type": "code",
   "execution_count": 15,
   "outputs": [],
   "source": [],
   "metadata": {
    "collapsed": false,
    "ExecuteTime": {
     "end_time": "2024-01-07T14:28:12.863217Z",
     "start_time": "2024-01-07T14:28:12.850923Z"
    }
   }
  },
  {
   "cell_type": "code",
   "execution_count": 11,
   "metadata": {
    "ExecuteTime": {
     "end_time": "2024-01-07T17:00:12.693628Z",
     "start_time": "2024-01-07T17:00:12.679216Z"
    }
   },
   "outputs": [],
   "source": [
    "from mlxtend.frequent_patterns import apriori"
   ]
  },
  {
   "cell_type": "code",
   "execution_count": null,
   "outputs": [],
   "source": [],
   "metadata": {
    "collapsed": false,
    "ExecuteTime": {
     "start_time": "2024-01-07T11:51:59.358342Z"
    }
   }
  },
  {
   "cell_type": "code",
   "execution_count": null,
   "outputs": [],
   "source": [],
   "metadata": {
    "collapsed": false,
    "ExecuteTime": {
     "start_time": "2024-01-07T11:51:59.359494Z"
    }
   }
  },
  {
   "cell_type": "code",
   "execution_count": 15,
   "metadata": {
    "ExecuteTime": {
     "end_time": "2024-01-07T17:17:25.217254Z",
     "start_time": "2024-01-07T17:17:25.210680Z"
    }
   },
   "outputs": [
    {
     "name": "stdout",
     "output_type": "stream",
     "text": [
      "Processing 45 combinations | Sampling itemset size 3\n"
     ]
    },
    {
     "data": {
      "text/plain": "    support                itemsets\n0      0.35               (BİSKÜVİ)\n1      0.65                 (EKMEK)\n2      0.40                 (KAHVE)\n3      0.30         (MISIR GEVREĞİ)\n4      0.20                (PEYNİR)\n5      0.25                   (SÜT)\n6      0.25                (ZEYTİN)\n7      0.35                   (ÇAY)\n8      0.30                 (ŞEKER)\n9      0.20        (BİSKÜVİ, EKMEK)\n10     0.20            (SÜT, EKMEK)\n11     0.20            (ÇAY, EKMEK)\n12     0.20          (EKMEK, ŞEKER)\n13     0.20  (MISIR GEVREĞİ, KAHVE)\n14     0.20          (KAHVE, ŞEKER)\n15     0.20           (ÇAY, ZEYTİN)",
      "text/html": "<div>\n<style scoped>\n    .dataframe tbody tr th:only-of-type {\n        vertical-align: middle;\n    }\n\n    .dataframe tbody tr th {\n        vertical-align: top;\n    }\n\n    .dataframe thead th {\n        text-align: right;\n    }\n</style>\n<table border=\"1\" class=\"dataframe\">\n  <thead>\n    <tr style=\"text-align: right;\">\n      <th></th>\n      <th>support</th>\n      <th>itemsets</th>\n    </tr>\n  </thead>\n  <tbody>\n    <tr>\n      <th>0</th>\n      <td>0.35</td>\n      <td>(BİSKÜVİ)</td>\n    </tr>\n    <tr>\n      <th>1</th>\n      <td>0.65</td>\n      <td>(EKMEK)</td>\n    </tr>\n    <tr>\n      <th>2</th>\n      <td>0.40</td>\n      <td>(KAHVE)</td>\n    </tr>\n    <tr>\n      <th>3</th>\n      <td>0.30</td>\n      <td>(MISIR GEVREĞİ)</td>\n    </tr>\n    <tr>\n      <th>4</th>\n      <td>0.20</td>\n      <td>(PEYNİR)</td>\n    </tr>\n    <tr>\n      <th>5</th>\n      <td>0.25</td>\n      <td>(SÜT)</td>\n    </tr>\n    <tr>\n      <th>6</th>\n      <td>0.25</td>\n      <td>(ZEYTİN)</td>\n    </tr>\n    <tr>\n      <th>7</th>\n      <td>0.35</td>\n      <td>(ÇAY)</td>\n    </tr>\n    <tr>\n      <th>8</th>\n      <td>0.30</td>\n      <td>(ŞEKER)</td>\n    </tr>\n    <tr>\n      <th>9</th>\n      <td>0.20</td>\n      <td>(BİSKÜVİ, EKMEK)</td>\n    </tr>\n    <tr>\n      <th>10</th>\n      <td>0.20</td>\n      <td>(SÜT, EKMEK)</td>\n    </tr>\n    <tr>\n      <th>11</th>\n      <td>0.20</td>\n      <td>(ÇAY, EKMEK)</td>\n    </tr>\n    <tr>\n      <th>12</th>\n      <td>0.20</td>\n      <td>(EKMEK, ŞEKER)</td>\n    </tr>\n    <tr>\n      <th>13</th>\n      <td>0.20</td>\n      <td>(MISIR GEVREĞİ, KAHVE)</td>\n    </tr>\n    <tr>\n      <th>14</th>\n      <td>0.20</td>\n      <td>(KAHVE, ŞEKER)</td>\n    </tr>\n    <tr>\n      <th>15</th>\n      <td>0.20</td>\n      <td>(ÇAY, ZEYTİN)</td>\n    </tr>\n  </tbody>\n</table>\n</div>"
     },
     "execution_count": 15,
     "metadata": {},
     "output_type": "execute_result"
    }
   ],
   "source": [
    "# Apriori Fonksiyonunu deneyelim.\n",
    "# df = True-False array ya da One Hot Encoding ile dönüştürülmüş dataframe\n",
    "# min_support = Tüm kombinasyonların support değerini istemiyorum bu yüzden belirli bir eşik değerini getir.\n",
    "# use_colnames = True, sutün isimlerini göster.\n",
    "# verbose = 1, Toplam kombinasyon sayısını verir.\n",
    "\n",
    "df1 = apriori(df, min_support=0.2, use_colnames=True, verbose = 1)\n",
    "df1"
   ]
  },
  {
   "cell_type": "code",
   "execution_count": null,
   "metadata": {
    "collapsed": true,
    "jupyter": {
     "outputs_hidden": true
    },
    "ExecuteTime": {
     "start_time": "2024-01-07T11:51:59.362124Z"
    }
   },
   "outputs": [],
   "source": [
    "''' Bisküvi tüm alışverişlerin % 35'inde, \n",
    "    Ekmek tüm alışverişlerin %65'inde veya \n",
    "    Çay, Zeytin, Ekmek, Bisküvi tüm satışların % 5'inde beraber yorumları yapılır.''' "
   ]
  },
  {
   "cell_type": "code",
   "execution_count": 16,
   "metadata": {
    "ExecuteTime": {
     "end_time": "2024-01-07T17:17:42.510586Z",
     "start_time": "2024-01-07T17:17:42.496301Z"
    }
   },
   "outputs": [
    {
     "data": {
      "text/plain": "    support                itemsets\n1      0.65                 (EKMEK)\n2      0.40                 (KAHVE)\n0      0.35               (BİSKÜVİ)\n7      0.35                   (ÇAY)\n3      0.30         (MISIR GEVREĞİ)\n8      0.30                 (ŞEKER)\n5      0.25                   (SÜT)\n6      0.25                (ZEYTİN)\n4      0.20                (PEYNİR)\n9      0.20        (BİSKÜVİ, EKMEK)\n10     0.20            (SÜT, EKMEK)\n11     0.20            (ÇAY, EKMEK)\n12     0.20          (EKMEK, ŞEKER)\n13     0.20  (MISIR GEVREĞİ, KAHVE)\n14     0.20          (KAHVE, ŞEKER)\n15     0.20           (ÇAY, ZEYTİN)",
      "text/html": "<div>\n<style scoped>\n    .dataframe tbody tr th:only-of-type {\n        vertical-align: middle;\n    }\n\n    .dataframe tbody tr th {\n        vertical-align: top;\n    }\n\n    .dataframe thead th {\n        text-align: right;\n    }\n</style>\n<table border=\"1\" class=\"dataframe\">\n  <thead>\n    <tr style=\"text-align: right;\">\n      <th></th>\n      <th>support</th>\n      <th>itemsets</th>\n    </tr>\n  </thead>\n  <tbody>\n    <tr>\n      <th>1</th>\n      <td>0.65</td>\n      <td>(EKMEK)</td>\n    </tr>\n    <tr>\n      <th>2</th>\n      <td>0.40</td>\n      <td>(KAHVE)</td>\n    </tr>\n    <tr>\n      <th>0</th>\n      <td>0.35</td>\n      <td>(BİSKÜVİ)</td>\n    </tr>\n    <tr>\n      <th>7</th>\n      <td>0.35</td>\n      <td>(ÇAY)</td>\n    </tr>\n    <tr>\n      <th>3</th>\n      <td>0.30</td>\n      <td>(MISIR GEVREĞİ)</td>\n    </tr>\n    <tr>\n      <th>8</th>\n      <td>0.30</td>\n      <td>(ŞEKER)</td>\n    </tr>\n    <tr>\n      <th>5</th>\n      <td>0.25</td>\n      <td>(SÜT)</td>\n    </tr>\n    <tr>\n      <th>6</th>\n      <td>0.25</td>\n      <td>(ZEYTİN)</td>\n    </tr>\n    <tr>\n      <th>4</th>\n      <td>0.20</td>\n      <td>(PEYNİR)</td>\n    </tr>\n    <tr>\n      <th>9</th>\n      <td>0.20</td>\n      <td>(BİSKÜVİ, EKMEK)</td>\n    </tr>\n    <tr>\n      <th>10</th>\n      <td>0.20</td>\n      <td>(SÜT, EKMEK)</td>\n    </tr>\n    <tr>\n      <th>11</th>\n      <td>0.20</td>\n      <td>(ÇAY, EKMEK)</td>\n    </tr>\n    <tr>\n      <th>12</th>\n      <td>0.20</td>\n      <td>(EKMEK, ŞEKER)</td>\n    </tr>\n    <tr>\n      <th>13</th>\n      <td>0.20</td>\n      <td>(MISIR GEVREĞİ, KAHVE)</td>\n    </tr>\n    <tr>\n      <th>14</th>\n      <td>0.20</td>\n      <td>(KAHVE, ŞEKER)</td>\n    </tr>\n    <tr>\n      <th>15</th>\n      <td>0.20</td>\n      <td>(ÇAY, ZEYTİN)</td>\n    </tr>\n  </tbody>\n</table>\n</div>"
     },
     "execution_count": 16,
     "metadata": {},
     "output_type": "execute_result"
    }
   ],
   "source": [
    "#Alışverişlerde en çok alınan ürünleri yorumlayabilmek için veriyi büyükten küçüğe sıralayabiliriz.\n",
    "\n",
    "df1.sort_values(by=\"support\", ascending=False)"
   ]
  },
  {
   "cell_type": "code",
   "execution_count": 17,
   "metadata": {
    "ExecuteTime": {
     "end_time": "2024-01-07T17:17:54.462111Z",
     "start_time": "2024-01-07T17:17:54.451480Z"
    }
   },
   "outputs": [],
   "source": [
    "from mlxtend.frequent_patterns import association_rules"
   ]
  },
  {
   "cell_type": "code",
   "execution_count": 18,
   "metadata": {
    "ExecuteTime": {
     "end_time": "2024-01-07T17:17:57.761226Z",
     "start_time": "2024-01-07T17:17:57.758171Z"
    }
   },
   "outputs": [
    {
     "data": {
      "text/plain": "       antecedents consequents  support  confidence\n0            (SÜT)     (EKMEK)      0.2    0.800000\n1          (ŞEKER)     (EKMEK)      0.2    0.666667\n2  (MISIR GEVREĞİ)     (KAHVE)      0.2    0.666667\n3          (ŞEKER)     (KAHVE)      0.2    0.666667\n4         (ZEYTİN)       (ÇAY)      0.2    0.800000",
      "text/html": "<div>\n<style scoped>\n    .dataframe tbody tr th:only-of-type {\n        vertical-align: middle;\n    }\n\n    .dataframe tbody tr th {\n        vertical-align: top;\n    }\n\n    .dataframe thead th {\n        text-align: right;\n    }\n</style>\n<table border=\"1\" class=\"dataframe\">\n  <thead>\n    <tr style=\"text-align: right;\">\n      <th></th>\n      <th>antecedents</th>\n      <th>consequents</th>\n      <th>support</th>\n      <th>confidence</th>\n    </tr>\n  </thead>\n  <tbody>\n    <tr>\n      <th>0</th>\n      <td>(SÜT)</td>\n      <td>(EKMEK)</td>\n      <td>0.2</td>\n      <td>0.800000</td>\n    </tr>\n    <tr>\n      <th>1</th>\n      <td>(ŞEKER)</td>\n      <td>(EKMEK)</td>\n      <td>0.2</td>\n      <td>0.666667</td>\n    </tr>\n    <tr>\n      <th>2</th>\n      <td>(MISIR GEVREĞİ)</td>\n      <td>(KAHVE)</td>\n      <td>0.2</td>\n      <td>0.666667</td>\n    </tr>\n    <tr>\n      <th>3</th>\n      <td>(ŞEKER)</td>\n      <td>(KAHVE)</td>\n      <td>0.2</td>\n      <td>0.666667</td>\n    </tr>\n    <tr>\n      <th>4</th>\n      <td>(ZEYTİN)</td>\n      <td>(ÇAY)</td>\n      <td>0.2</td>\n      <td>0.800000</td>\n    </tr>\n  </tbody>\n</table>\n</div>"
     },
     "execution_count": 18,
     "metadata": {},
     "output_type": "execute_result"
    }
   ],
   "source": [
    "# Aprioride \"support\" hesabı yapabiliriz, \"confidence ve diğerleri\" için association rules kullanıyoruz.\n",
    "\n",
    "association_rules(df1, metric = \"confidence\", min_threshold = 0.60)[['antecedents', 'consequents','support','confidence']]\n",
    "\n"
   ]
  },
  {
   "cell_type": "code",
   "execution_count": 19,
   "metadata": {
    "collapsed": true,
    "jupyter": {
     "outputs_hidden": true
    },
    "ExecuteTime": {
     "end_time": "2024-01-07T13:22:40.122021Z",
     "start_time": "2024-01-07T13:22:40.108809Z"
    }
   },
   "outputs": [
    {
     "data": {
      "text/plain": "' antecedent support ; Birincinin tek başına görülme olasılığı,\\n    consequent support ; İkincinin tek başına görülme olasılığı,\\n    support ; İkisinin birlikte görülme olasılığı,\\n    confidence ; İlki satıldığında ikinci ürünün satılma olasılığı,\\n    lift ;  İlki satıldığında ikinci ürünün satılma olasılığı şu kadar kat arttı yorumu\\n\\n'"
     },
     "execution_count": 19,
     "metadata": {},
     "output_type": "execute_result"
    }
   ],
   "source": [
    "''' antecedent support ; Birincinin tek başına görülme olasılığı,\n",
    "    consequent support ; İkincinin tek başına görülme olasılığı,\n",
    "    support ; İkisinin birlikte görülme olasılığı,\n",
    "    confidence ; İlki satıldığında ikinci ürünün satılma olasılığı,\n",
    "    lift ;  İlki satıldığında ikinci ürünün satılma olasılığı şu kadar kat arttı yorumu\n",
    "\n",
    "'''"
   ]
  },
  {
   "cell_type": "markdown",
   "metadata": {},
   "source": [
    "## Sonuçları Seçme ve Filtreleme"
   ]
  },
  {
   "cell_type": "code",
   "execution_count": null,
   "metadata": {
    "collapsed": true,
    "jupyter": {
     "outputs_hidden": true
    },
    "ExecuteTime": {
     "start_time": "2024-01-07T11:51:59.367133Z"
    }
   },
   "outputs": [],
   "source": [
    "''' \"confidence\" göz önünde bulundurulması gereken tek metrik değil. \n",
    "Bir kaç metriğin kombinasyonuda alınabilir.\n",
    "'''"
   ]
  },
  {
   "cell_type": "code",
   "execution_count": 20,
   "metadata": {
    "ExecuteTime": {
     "end_time": "2024-01-07T17:19:35.984279Z",
     "start_time": "2024-01-07T17:19:35.972049Z"
    }
   },
   "outputs": [
    {
     "data": {
      "text/plain": "       antecedents consequents  support  confidence\n0            (SÜT)     (EKMEK)      0.2    0.800000\n1          (ŞEKER)     (EKMEK)      0.2    0.666667\n2  (MISIR GEVREĞİ)     (KAHVE)      0.2    0.666667\n3          (ŞEKER)     (KAHVE)      0.2    0.666667\n4         (ZEYTİN)       (ÇAY)      0.2    0.800000",
      "text/html": "<div>\n<style scoped>\n    .dataframe tbody tr th:only-of-type {\n        vertical-align: middle;\n    }\n\n    .dataframe tbody tr th {\n        vertical-align: top;\n    }\n\n    .dataframe thead th {\n        text-align: right;\n    }\n</style>\n<table border=\"1\" class=\"dataframe\">\n  <thead>\n    <tr style=\"text-align: right;\">\n      <th></th>\n      <th>antecedents</th>\n      <th>consequents</th>\n      <th>support</th>\n      <th>confidence</th>\n    </tr>\n  </thead>\n  <tbody>\n    <tr>\n      <th>0</th>\n      <td>(SÜT)</td>\n      <td>(EKMEK)</td>\n      <td>0.2</td>\n      <td>0.800000</td>\n    </tr>\n    <tr>\n      <th>1</th>\n      <td>(ŞEKER)</td>\n      <td>(EKMEK)</td>\n      <td>0.2</td>\n      <td>0.666667</td>\n    </tr>\n    <tr>\n      <th>2</th>\n      <td>(MISIR GEVREĞİ)</td>\n      <td>(KAHVE)</td>\n      <td>0.2</td>\n      <td>0.666667</td>\n    </tr>\n    <tr>\n      <th>3</th>\n      <td>(ŞEKER)</td>\n      <td>(KAHVE)</td>\n      <td>0.2</td>\n      <td>0.666667</td>\n    </tr>\n    <tr>\n      <th>4</th>\n      <td>(ZEYTİN)</td>\n      <td>(ÇAY)</td>\n      <td>0.2</td>\n      <td>0.800000</td>\n    </tr>\n  </tbody>\n</table>\n</div>"
     },
     "execution_count": 20,
     "metadata": {},
     "output_type": "execute_result"
    }
   ],
   "source": [
    "rules = association_rules(df1, metric = \"confidence\", min_threshold = 0.6)[['antecedents', 'consequents','support','confidence']]\n",
    "rules[ (rules['confidence'] >= 0.6) & (rules['support'] >= 0.2) ]"
   ]
  },
  {
   "cell_type": "markdown",
   "source": [],
   "metadata": {
    "collapsed": false
   }
  },
  {
   "cell_type": "markdown",
   "metadata": {},
   "source": [
    "# sonuc olarak"
   ]
  },
  {
   "cell_type": "markdown",
   "metadata": {},
   "source": [
    "İndirgediğim veriseti üzerinden analiz yapacak olursak\n",
    "- Alışverişlerde Zeytinin'in tek başına görülme olasığı %25, Çay'ın tek başına görülme olasılığı %35.\n",
    "- 100 alışverişin 20'sinde mutlaka Zeytinin ve Çay beraber satın alınıyor.\n",
    "- Zeytin satıldığında çay satılma olasılığı 0.800.. yani %80.\n",
    "\n",
    "\n",
    "\n",
    "Aksiyon Fikri: \n",
    "- zeytin alan biri %80 gibi yüksek bir ihtimalle çay almaktadır . Bu iki ürün birbirinden uzak yerlerde konumlandırılarak müşterinin market içi dolaşması sağlanabilir, bu süreçte müşteri diğer ürünlere göz atabilir ve yahut satın alabilir. \n"
   ]
  },
  {
   "cell_type": "code",
   "execution_count": null,
   "metadata": {
    "ExecuteTime": {
     "start_time": "2024-01-07T11:51:59.368410Z"
    }
   },
   "outputs": [],
   "source": []
  },
  {
   "cell_type": "code",
   "execution_count": null,
   "outputs": [],
   "source": [],
   "metadata": {
    "collapsed": false,
    "ExecuteTime": {
     "start_time": "2024-01-07T11:51:59.369065Z"
    }
   }
  },
  {
   "cell_type": "code",
   "execution_count": null,
   "outputs": [],
   "source": [],
   "metadata": {
    "collapsed": false,
    "ExecuteTime": {
     "start_time": "2024-01-07T11:51:59.369654Z"
    }
   }
  },
  {
   "cell_type": "code",
   "execution_count": null,
   "outputs": [],
   "source": [],
   "metadata": {
    "collapsed": false,
    "ExecuteTime": {
     "start_time": "2024-01-07T11:51:59.370221Z"
    }
   }
  },
  {
   "cell_type": "code",
   "execution_count": null,
   "outputs": [],
   "source": [],
   "metadata": {
    "collapsed": false,
    "ExecuteTime": {
     "start_time": "2024-01-07T11:51:59.370773Z"
    }
   }
  },
  {
   "cell_type": "code",
   "execution_count": null,
   "outputs": [],
   "source": [],
   "metadata": {
    "collapsed": false,
    "ExecuteTime": {
     "start_time": "2024-01-07T11:51:59.371384Z"
    }
   }
  },
  {
   "cell_type": "code",
   "execution_count": null,
   "outputs": [],
   "source": [],
   "metadata": {
    "collapsed": false,
    "ExecuteTime": {
     "start_time": "2024-01-07T11:51:59.372124Z"
    }
   }
  },
  {
   "cell_type": "code",
   "execution_count": null,
   "outputs": [],
   "source": [],
   "metadata": {
    "collapsed": false,
    "ExecuteTime": {
     "start_time": "2024-01-07T11:51:59.372772Z"
    }
   }
  },
  {
   "cell_type": "code",
   "execution_count": null,
   "outputs": [],
   "source": [],
   "metadata": {
    "collapsed": false,
    "ExecuteTime": {
     "start_time": "2024-01-07T11:51:59.373350Z"
    }
   }
  },
  {
   "cell_type": "code",
   "execution_count": null,
   "outputs": [],
   "source": [],
   "metadata": {
    "collapsed": false,
    "ExecuteTime": {
     "start_time": "2024-01-07T11:51:59.373921Z"
    }
   }
  },
  {
   "cell_type": "code",
   "execution_count": null,
   "outputs": [],
   "source": [],
   "metadata": {
    "collapsed": false,
    "ExecuteTime": {
     "start_time": "2024-01-07T11:51:59.374638Z"
    }
   }
  }
 ],
 "metadata": {
  "kernelspec": {
   "display_name": "Python 3",
   "language": "python",
   "name": "python3"
  },
  "language_info": {
   "codemirror_mode": {
    "name": "ipython",
    "version": 3
   },
   "file_extension": ".py",
   "mimetype": "text/x-python",
   "name": "python",
   "nbconvert_exporter": "python",
   "pygments_lexer": "ipython3",
   "version": "3.7.4"
  }
 },
 "nbformat": 4,
 "nbformat_minor": 4
}
